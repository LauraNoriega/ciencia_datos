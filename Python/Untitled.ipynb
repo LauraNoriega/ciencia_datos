{
 "cells": [
  {
   "cell_type": "code",
   "execution_count": 1,
   "metadata": {
    "collapsed": true
   },
   "outputs": [],
   "source": [
    "def esnumeroprimo(numero):\n",
    "    if numero <= 2:\n",
    "        print(\"ingrese un numero mayor a 2\")\n",
    "        return\n",
    "    ndiv=0\n",
    "    for i in range (1, numero+1):\n",
    "        if(numero % 1==0):\n",
    "            ndiv=ndiv+1\n",
    "        if(ndiv!=2):\n",
    "            print(\"no es primo\")\n",
    "        if(ndiv==2):\n",
    "            print(\"es primo\")\n",
    "            "
   ]
  },
  {
   "cell_type": "code",
   "execution_count": 2,
   "metadata": {},
   "outputs": [
    {
     "name": "stdout",
     "output_type": "stream",
     "text": [
      "2\n",
      "3\n",
      "donald\n",
      "True\n"
     ]
    }
   ],
   "source": [
    "def mifuncionlista(lista):\n",
    "    for elemento in lista:\n",
    "        print(elemento)\n",
    "milista=[2,3,\"donald\",True]\n",
    "mifuncionlista(milista)"
   ]
  },
  {
   "cell_type": "code",
   "execution_count": 3,
   "metadata": {},
   "outputs": [
    {
     "data": {
      "text/plain": [
       "4"
      ]
     },
     "execution_count": 3,
     "metadata": {},
     "output_type": "execute_result"
    }
   ],
   "source": [
    "def funcionparametrodefecto(numero,potencia=2):\n",
    "    return numero**potencia\n",
    "funcionparametrodefecto(2)\n"
   ]
  },
  {
   "cell_type": "code",
   "execution_count": 4,
   "metadata": {},
   "outputs": [
    {
     "data": {
      "text/plain": [
       "8"
      ]
     },
     "execution_count": 4,
     "metadata": {},
     "output_type": "execute_result"
    }
   ],
   "source": [
    "funcionparametrodefecto(2,3)"
   ]
  },
  {
   "cell_type": "code",
   "execution_count": 13,
   "metadata": {},
   "outputs": [
    {
     "ename": "IndentationError",
     "evalue": "expected an indented block (<ipython-input-13-930c3601b375>, line 2)",
     "output_type": "error",
     "traceback": [
      "\u001b[1;36m  File \u001b[1;32m\"<ipython-input-13-930c3601b375>\"\u001b[1;36m, line \u001b[1;32m2\u001b[0m\n\u001b[1;33m    suma=0\u001b[0m\n\u001b[1;37m       ^\u001b[0m\n\u001b[1;31mIndentationError\u001b[0m\u001b[1;31m:\u001b[0m expected an indented block\n"
     ]
    }
   ],
   "source": [
    "def promedio(valores):\n",
    "suma=0\n",
    "for elemento in valores:\n",
    "    suma += elemento\n",
    "    division=suma / len(valores)\n",
    "    return division\n",
    "valores=[2,4,6,10]\n",
    "print(promedio(valores))\n",
    "    "
   ]
  },
  {
   "cell_type": "code",
   "execution_count": 14,
   "metadata": {},
   "outputs": [
    {
     "name": "stdout",
     "output_type": "stream",
     "text": [
      "1\n",
      "2\n",
      "3\n",
      "4\n",
      "5\n",
      "6\n"
     ]
    }
   ],
   "source": [
    "def mifuncionlista(lista):\n",
    "    for elemento in lista:\n",
    "        print(elemento)\n",
    "milista=[1,2,3,4,5,6]\n",
    "mifuncionlista(milista)"
   ]
  },
  {
   "cell_type": "code",
   "execution_count": 16,
   "metadata": {},
   "outputs": [
    {
     "name": "stdout",
     "output_type": "stream",
     "text": [
      "1\n",
      "2\n",
      "3\n",
      "4\n",
      "5\n"
     ]
    }
   ],
   "source": [
    "def parametrosnodeterminados(*args):\n",
    "    for elemento in args:\n",
    "        print(elemento)\n",
    "parametrosnodeterminados(1,2,3,4,5)"
   ]
  },
  {
   "cell_type": "code",
   "execution_count": 18,
   "metadata": {
    "collapsed": true
   },
   "outputs": [],
   "source": [
    "def parametrosnodeterminados (param1, param2, param3, param4):\n",
    "    print(param1)\n",
    "    print(param2)\n",
    "    print(param3)\n",
    "    print(param4)\n"
   ]
  },
  {
   "cell_type": "code",
   "execution_count": 20,
   "metadata": {},
   "outputs": [
    {
     "name": "stdout",
     "output_type": "stream",
     "text": [
      "1\n",
      "2\n",
      "3\n",
      "4\n"
     ]
    }
   ],
   "source": [
    "parametrosnodeterminados(1,2,3,4)"
   ]
  },
  {
   "cell_type": "code",
   "execution_count": 26,
   "metadata": {},
   "outputs": [
    {
     "name": "stdout",
     "output_type": "stream",
     "text": [
      "[2, 7, 9, 5, 6]\n",
      "[2, 5, 6, 7, 9]\n"
     ]
    }
   ],
   "source": [
    "listadesordenada = [2,7,9,5,6]\n",
    "print(listadesordenada)\n",
    "print (sorted (listadesordenada))"
   ]
  },
  {
   "cell_type": "code",
   "execution_count": 27,
   "metadata": {},
   "outputs": [
    {
     "name": "stdout",
     "output_type": "stream",
     "text": [
      "1\n"
     ]
    }
   ],
   "source": [
    "numerofraccionario=1.36587\n",
    "numeroredondeo=round(numerofraccionario)\n",
    "print (numeroredondeo)"
   ]
  },
  {
   "cell_type": "code",
   "execution_count": 35,
   "metadata": {},
   "outputs": [
    {
     "ename": "IndentationError",
     "evalue": "unexpected indent (<ipython-input-35-783deabc9e08>, line 2)",
     "output_type": "error",
     "traceback": [
      "\u001b[1;36m  File \u001b[1;32m\"<ipython-input-35-783deabc9e08>\"\u001b[1;36m, line \u001b[1;32m2\u001b[0m\n\u001b[1;33m    print(listadesordenada)\u001b[0m\n\u001b[1;37m    ^\u001b[0m\n\u001b[1;31mIndentationError\u001b[0m\u001b[1;31m:\u001b[0m unexpected indent\n"
     ]
    }
   ],
   "source": [
    "listadesordenada = [2,7,9,5,6]\n",
    "    print(listadesordenada)\n",
    "    print (sorted (listadesordenada))\n",
    "\n",
    "    print listadesordenada\n",
    "    dOrder=sorted(listadesordenada)\n",
    "\n",
    "    listadesordenada=len(dOrder)\n",
    "    middle=listadesordenada/2\n",
    "\n",
    "if listadesordenada%2==0:  \n",
    "    mediana=(dOrder[middle+1] + dOrder[middle+2]) / 2\n",
    "else:\n",
    "    mediana=dOrder[middle+1]*1"
   ]
  },
  {
   "cell_type": "code",
   "execution_count": null,
   "metadata": {
    "collapsed": true
   },
   "outputs": [],
   "source": []
  },
  {
   "cell_type": "code",
   "execution_count": null,
   "metadata": {
    "collapsed": true
   },
   "outputs": [],
   "source": []
  }
 ],
 "metadata": {
  "kernelspec": {
   "display_name": "Python 3",
   "language": "python",
   "name": "python3"
  },
  "language_info": {
   "codemirror_mode": {
    "name": "ipython",
    "version": 3
   },
   "file_extension": ".py",
   "mimetype": "text/x-python",
   "name": "python",
   "nbconvert_exporter": "python",
   "pygments_lexer": "ipython3",
   "version": "3.6.1"
  }
 },
 "nbformat": 4,
 "nbformat_minor": 2
}
