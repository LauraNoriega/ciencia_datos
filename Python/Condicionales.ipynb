{
 "cells": [
  {
   "cell_type": "code",
   "execution_count": 13,
   "metadata": {},
   "outputs": [
    {
     "name": "stdout",
     "output_type": "stream",
     "text": [
      "es mayor de edad\n"
     ]
    }
   ],
   "source": [
    "edadAlumno = 18\n",
    "if edadAlumno >= 18:\n",
    "\n",
    "    print (\"es mayor de edad\")\n",
    "else:\n",
    "    print (\"es menor de edad\")\n",
    "            "
   ]
  },
  {
   "cell_type": "code",
   "execution_count": 16,
   "metadata": {},
   "outputs": [
    {
     "name": "stdout",
     "output_type": "stream",
     "text": [
      "es menor de edad\n"
     ]
    }
   ],
   "source": [
    "generoalumno=\"a\"\n",
    "edadAlumno >= 18\n",
    "if edadAlumno >= 18 and generoalumno ==\"f\":\n",
    "    print(\"es mayor de edad y es mujer\")\n",
    "else:\n",
    "    print(\"es menor de edad\")"
   ]
  },
  {
   "cell_type": "code",
   "execution_count": 18,
   "metadata": {},
   "outputs": [
    {
     "name": "stdout",
     "output_type": "stream",
     "text": [
      "es mayor de edad y es mujer y su edad es: 18y su genero es: a\n"
     ]
    }
   ],
   "source": [
    "generoalumno=\"a\"\n",
    "edadAlumno >25\n",
    "municipio = \"Medellín\"\n",
    "if edadAlumno>=15 or generoalumno ==\"f\":\n",
    "    print(\"es mayor de edad y es mujer y su edad es: \" + str (edadAlumno) + \"y su genero es: \" + generoalumno)\n",
    "else:\n",
    "    print(\"es menor de edad\")"
   ]
  },
  {
   "cell_type": "code",
   "execution_count": 23,
   "metadata": {},
   "outputs": [
    {
     "ename": "NameError",
     "evalue": "name 'nunerotexto' is not defined",
     "output_type": "error",
     "traceback": [
      "\u001b[1;31m---------------------------------------------------------------------------\u001b[0m",
      "\u001b[1;31mNameError\u001b[0m                                 Traceback (most recent call last)",
      "\u001b[1;32m<ipython-input-23-cb889a330dcc>\u001b[0m in \u001b[0;36m<module>\u001b[1;34m()\u001b[0m\n\u001b[0;32m      1\u001b[0m \u001b[0mnumerotexto\u001b[0m \u001b[1;33m=\u001b[0m\u001b[1;34m\"2\"\u001b[0m\u001b[1;33m\u001b[0m\u001b[0m\n\u001b[1;32m----> 2\u001b[1;33m \u001b[0mprint\u001b[0m\u001b[1;33m(\u001b[0m\u001b[0mint\u001b[0m\u001b[1;33m(\u001b[0m\u001b[0mnunerotexto\u001b[0m\u001b[1;33m)\u001b[0m\u001b[1;33m)\u001b[0m\u001b[1;33m\u001b[0m\u001b[0m\n\u001b[0m\u001b[0;32m      3\u001b[0m \u001b[0mtype\u001b[0m\u001b[1;33m(\u001b[0m\u001b[0mint\u001b[0m\u001b[1;33m(\u001b[0m\u001b[0mnumerotexto\u001b[0m\u001b[1;33m)\u001b[0m\u001b[1;33m)\u001b[0m\u001b[1;33m\u001b[0m\u001b[0m\n",
      "\u001b[1;31mNameError\u001b[0m: name 'nunerotexto' is not defined"
     ]
    }
   ],
   "source": [
    "numerotexto =\"2\"\n",
    "print(int(nunerotexto))\n",
    "type(int(numerotexto))"
   ]
  },
  {
   "cell_type": "code",
   "execution_count": 22,
   "metadata": {},
   "outputs": [
    {
     "name": "stdout",
     "output_type": "stream",
     "text": [
      "0\n",
      "1\n",
      "2\n",
      "3\n",
      "4\n",
      "5\n",
      "6\n",
      "7\n",
      "8\n",
      "9\n",
      "10\n"
     ]
    }
   ],
   "source": [
    "contador = 0\n",
    "while contador <=10:\n",
    "    print(contador)\n",
    "    contador +=1"
   ]
  },
  {
   "cell_type": "code",
   "execution_count": 27,
   "metadata": {},
   "outputs": [
    {
     "name": "stdout",
     "output_type": "stream",
     "text": [
      "1\n",
      "2\n",
      "3\n",
      "4\n",
      "5\n",
      "6\n"
     ]
    }
   ],
   "source": [
    "listanumeros =[1,2,3,4,5,6]\n",
    "for numero in listanumeros:\n",
    "    print (numero)"
   ]
  },
  {
   "cell_type": "code",
   "execution_count": 28,
   "metadata": {},
   "outputs": [
    {
     "name": "stdout",
     "output_type": "stream",
     "text": [
      "el numero es par y es el: 2\n",
      "el numero es par y es el: 4\n",
      "el numero es par y es el: 6\n"
     ]
    }
   ],
   "source": [
    "for numero in listanumeros:\n",
    "    if numero % 2 ==0:\n",
    "        print(\"el numero es par y es el: \" + str(numero))"
   ]
  },
  {
   "cell_type": "code",
   "execution_count": 33,
   "metadata": {},
   "outputs": [
    {
     "name": "stdout",
     "output_type": "stream",
     "text": [
      "el numero es par y es el: 2\n",
      "el numero es impar y es el: 3\n",
      "el numero es par y es el: 4\n",
      "el numero es impar y es el: 5\n",
      "el numero es par y es el: 6\n"
     ]
    }
   ],
   "source": [
    "for numero in listanumeros:\n",
    "    if numero % 2 ==0:\n",
    "        print(\"el numero es par y es el: \" + str(numero))\n",
    "    elif numero % 3 ==0:   \n",
    "        print(\"el numero es impar y es el: \" + str(numero))\n",
    "    elif numero % 5 ==0: \n",
    "        print(\"el numero es impar y es el: \" + str(numero))"
   ]
  },
  {
   "cell_type": "code",
   "execution_count": 31,
   "metadata": {},
   "outputs": [
    {
     "name": "stdout",
     "output_type": "stream",
     "text": [
      "el numero es par y es el: 5\n"
     ]
    }
   ],
   "source": [
    "for numero in listanumeros:\n",
    "    if numero % 5 ==0:\n",
    "        print(\"el numero es par y es el: \" + str(numero))\n",
    "  "
   ]
  },
  {
   "cell_type": "code",
   "execution_count": 45,
   "metadata": {},
   "outputs": [
    {
     "name": "stdout",
     "output_type": "stream",
     "text": [
      "1\n",
      "2\n",
      "4\n",
      "5\n"
     ]
    }
   ],
   "source": [
    "for numero in listanumeros:\n",
    "    if numero % 3 == 0:\n",
    "            continue\n",
    "    else:\n",
    "            print(numero)"
   ]
  },
  {
   "cell_type": "code",
   "execution_count": 46,
   "metadata": {},
   "outputs": [
    {
     "name": "stdout",
     "output_type": "stream",
     "text": [
      "1\n",
      "2\n"
     ]
    }
   ],
   "source": [
    "for numero in listanumeros:\n",
    "    if numero % 3 == 0:\n",
    "            break\n",
    "    else:\n",
    "        print(numero)"
   ]
  },
  {
   "cell_type": "code",
   "execution_count": null,
   "metadata": {
    "collapsed": true
   },
   "outputs": [],
   "source": []
  }
 ],
 "metadata": {
  "kernelspec": {
   "display_name": "Python 3",
   "language": "python",
   "name": "python3"
  },
  "language_info": {
   "codemirror_mode": {
    "name": "ipython",
    "version": 3
   },
   "file_extension": ".py",
   "mimetype": "text/x-python",
   "name": "python",
   "nbconvert_exporter": "python",
   "pygments_lexer": "ipython3",
   "version": "3.6.1"
  }
 },
 "nbformat": 4,
 "nbformat_minor": 2
}
